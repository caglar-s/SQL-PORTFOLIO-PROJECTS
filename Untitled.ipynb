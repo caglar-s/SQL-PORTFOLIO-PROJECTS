{
 "cells": [
  {
   "cell_type": "code",
   "execution_count": 14,
   "metadata": {},
   "outputs": [
    {
     "name": "stdout",
     "output_type": "stream",
     "text": [
      "Collecting pandasql\n",
      "  Downloading pandasql-0.7.3.tar.gz (26 kB)\n",
      "Requirement already satisfied, skipping upgrade: numpy in /Users/shanecaglar/opt/anaconda3/lib/python3.8/site-packages (from pandasql) (1.18.5)\n",
      "Requirement already satisfied, skipping upgrade: pandas in /Users/shanecaglar/opt/anaconda3/lib/python3.8/site-packages (from pandasql) (1.0.5)\n",
      "Requirement already satisfied, skipping upgrade: sqlalchemy in /Users/shanecaglar/opt/anaconda3/lib/python3.8/site-packages (from pandasql) (1.3.18)\n",
      "Requirement already satisfied, skipping upgrade: python-dateutil>=2.6.1 in /Users/shanecaglar/opt/anaconda3/lib/python3.8/site-packages (from pandas->pandasql) (2.8.1)\n",
      "Requirement already satisfied, skipping upgrade: pytz>=2017.2 in /Users/shanecaglar/opt/anaconda3/lib/python3.8/site-packages (from pandas->pandasql) (2020.1)\n",
      "Requirement already satisfied, skipping upgrade: six>=1.5 in /Users/shanecaglar/opt/anaconda3/lib/python3.8/site-packages (from python-dateutil>=2.6.1->pandas->pandasql) (1.15.0)\n",
      "Building wheels for collected packages: pandasql\n",
      "  Building wheel for pandasql (setup.py) ... \u001b[?25ldone\n",
      "\u001b[?25h  Created wheel for pandasql: filename=pandasql-0.7.3-py3-none-any.whl size=26817 sha256=28b95e4a22e2cddc2c5126e464316b055c41a0342a8ad5102b5d6241347216ba\n",
      "  Stored in directory: /Users/shanecaglar/Library/Caches/pip/wheels/ed/8f/46/a383923333728744f01ba24adbd8e364f2cb9470a8b8e5b9ff\n",
      "Successfully built pandasql\n",
      "Installing collected packages: pandasql\n",
      "Successfully installed pandasql-0.7.3\n"
     ]
    }
   ],
   "source": [
    "!pip install -U pandasql"
   ]
  },
  {
   "cell_type": "code",
   "execution_count": 27,
   "metadata": {},
   "outputs": [],
   "source": [
    "import pandas as pd\n",
    "from pandasql import sqldf\n",
    "from pandasql import load_births"
   ]
  },
  {
   "cell_type": "code",
   "execution_count": 33,
   "metadata": {},
   "outputs": [],
   "source": [
    "births = load_births()"
   ]
  },
  {
   "cell_type": "code",
   "execution_count": 34,
   "metadata": {},
   "outputs": [
    {
     "name": "stdout",
     "output_type": "stream",
     "text": [
      "                           date  births\n",
      "0    1975-01-01 00:00:00.000000  265775\n",
      "1    1975-02-01 00:00:00.000000  241045\n",
      "2    1975-03-01 00:00:00.000000  268849\n",
      "3    1975-04-01 00:00:00.000000  247455\n",
      "4    1975-05-01 00:00:00.000000  254545\n",
      "..                          ...     ...\n",
      "403  2012-08-01 00:00:00.000000  359554\n",
      "404  2012-09-01 00:00:00.000000  361922\n",
      "405  2012-10-01 00:00:00.000000  347625\n",
      "406  2012-11-01 00:00:00.000000  320195\n",
      "407  2012-12-01 00:00:00.000000  340995\n",
      "\n",
      "[408 rows x 2 columns]\n"
     ]
    }
   ],
   "source": [
    "print(sqldf(\"SELECT * FROM births ;\", globals()))"
   ]
  },
  {
   "cell_type": "code",
   "execution_count": null,
   "metadata": {},
   "outputs": [],
   "source": []
  }
 ],
 "metadata": {
  "kernelspec": {
   "display_name": "Python 3",
   "language": "python",
   "name": "python3"
  },
  "language_info": {
   "codemirror_mode": {
    "name": "ipython",
    "version": 3
   },
   "file_extension": ".py",
   "mimetype": "text/x-python",
   "name": "python",
   "nbconvert_exporter": "python",
   "pygments_lexer": "ipython3",
   "version": "3.8.3"
  }
 },
 "nbformat": 4,
 "nbformat_minor": 4
}
