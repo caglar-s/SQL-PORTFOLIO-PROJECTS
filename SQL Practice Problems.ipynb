{
 "cells": [
  {
   "cell_type": "code",
   "execution_count": 1,
   "metadata": {},
   "outputs": [],
   "source": [
    "import pandas as pd\n",
    "from pandasql import sqldf"
   ]
  },
  {
   "cell_type": "markdown",
   "metadata": {},
   "source": [
    "## Import tables"
   ]
  },
  {
   "cell_type": "code",
   "execution_count": 16,
   "metadata": {},
   "outputs": [],
   "source": [
    "#pwd\n",
    "filepath = '/Users/shanecaglar/Desktop/SQL Practice Problems/'\n",
    "Shippers = pd.read_csv(filepath + 'Shippers.csv')\n",
    "Categories = pd.read_csv(filepath + 'Categories.csv')"
   ]
  },
  {
   "cell_type": "markdown",
   "metadata": {},
   "source": [
    "## 1. Return all the fields from all the Shippers"
   ]
  },
  {
   "cell_type": "code",
   "execution_count": 17,
   "metadata": {},
   "outputs": [
    {
     "name": "stdout",
     "output_type": "stream",
     "text": [
      "   ShipperID       CompanyName           Phone\n",
      "0          1    Speedy Express  (503) 555-9831\n",
      "1          2    United Package  (503) 555-3199\n",
      "2          3  Federal Shipping  (503) 555-9931\n"
     ]
    }
   ],
   "source": [
    "query = \"\"\"\n",
    "        SELECT *\n",
    "        FROM Shippers\n",
    "\n",
    "        \"\"\"\n",
    "print(sqldf(query,locals()))"
   ]
  },
  {
   "cell_type": "markdown",
   "metadata": {},
   "source": [
    "## 2. Return the CategoryName and Description fields from the Categories table"
   ]
  },
  {
   "cell_type": "code",
   "execution_count": 18,
   "metadata": {},
   "outputs": [
    {
     "name": "stdout",
     "output_type": "stream",
     "text": [
      "     CategoryName                                        Description\n",
      "0       Beverages        Soft drinks, coffees, teas, beers, and ales\n",
      "1      Condiments  Sweet and savory sauces, relishes, spreads, an...\n",
      "2     Confections                Desserts, candies, and sweet breads\n",
      "3  Dairy Products                                            Cheeses\n",
      "4  Grains/Cereals                Breads, crackers, pasta, and cereal\n",
      "5    Meat/Poultry                                     Prepared meats\n",
      "6         Produce                          Dried fruit and bean curd\n",
      "7         Seafood                                   Seaweed and fish\n"
     ]
    }
   ],
   "source": [
    "query = \"\"\"\n",
    "        SELECT \n",
    "            CategoryName,\n",
    "            Description\n",
    "        FROM Categories\n",
    "\n",
    "        \"\"\"\n",
    "print(sqldf(query,locals()))"
   ]
  },
  {
   "cell_type": "code",
   "execution_count": 13,
   "metadata": {},
   "outputs": [],
   "source": []
  },
  {
   "cell_type": "code",
   "execution_count": null,
   "metadata": {},
   "outputs": [],
   "source": []
  }
 ],
 "metadata": {
  "kernelspec": {
   "display_name": "Python 3",
   "language": "python",
   "name": "python3"
  },
  "language_info": {
   "codemirror_mode": {
    "name": "ipython",
    "version": 3
   },
   "file_extension": ".py",
   "mimetype": "text/x-python",
   "name": "python",
   "nbconvert_exporter": "python",
   "pygments_lexer": "ipython3",
   "version": "3.8.3"
  }
 },
 "nbformat": 4,
 "nbformat_minor": 4
}
