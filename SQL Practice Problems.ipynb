{
 "cells": [
  {
   "cell_type": "markdown",
   "metadata": {},
   "source": [
    "# SQL Practice Problems"
   ]
  },
  {
   "cell_type": "markdown",
   "metadata": {},
   "source": [
    "This workbook contains responses to SQL Practice Problems using the Northwind_SPP database and pandasql, which can treat pandas data frames as if they were tables and uses SQLite syntax."
   ]
  },
  {
   "cell_type": "markdown",
   "metadata": {},
   "source": [
    "## Setup"
   ]
  },
  {
   "cell_type": "code",
   "execution_count": 1,
   "metadata": {},
   "outputs": [],
   "source": [
    "import pandas as pd\n",
    "from pandasql import sqldf"
   ]
  },
  {
   "cell_type": "markdown",
   "metadata": {},
   "source": [
    "## Import tables"
   ]
  },
  {
   "cell_type": "code",
   "execution_count": 104,
   "metadata": {},
   "outputs": [],
   "source": [
    "#pwd\n",
    "filepath = '/Users/shanecaglar/Desktop/SQL Practice Problems/'\n",
    "Shippers = pd.read_csv(filepath + 'Shippers.csv')\n",
    "Categories = pd.read_csv(filepath + 'Categories.csv')\n",
    "Employees = pd.read_csv(filepath + 'Employees.csv',parse_dates=[5])\n",
    "Orders = pd.read_csv(filepath + 'Orders.csv')\n",
    "Suppliers = pd.read_csv(filepath + 'Suppliers.csv')\n",
    "Products = pd.read_csv(filepath + 'Products.csv')"
   ]
  },
  {
   "cell_type": "markdown",
   "metadata": {},
   "source": [
    "## 1. Return all the fields from all the Shippers table"
   ]
  },
  {
   "cell_type": "code",
   "execution_count": 17,
   "metadata": {},
   "outputs": [
    {
     "name": "stdout",
     "output_type": "stream",
     "text": [
      "   ShipperID       CompanyName           Phone\n",
      "0          1    Speedy Express  (503) 555-9831\n",
      "1          2    United Package  (503) 555-3199\n",
      "2          3  Federal Shipping  (503) 555-9931\n"
     ]
    }
   ],
   "source": [
    "query = \"\"\"\n",
    "        SELECT *\n",
    "        FROM Shippers\n",
    "\n",
    "        \"\"\"\n",
    "print(sqldf(query,locals()))"
   ]
  },
  {
   "cell_type": "markdown",
   "metadata": {},
   "source": [
    "## 2. Return the Category Name and Description fields from the Categories table\n"
   ]
  },
  {
   "cell_type": "code",
   "execution_count": 25,
   "metadata": {},
   "outputs": [
    {
     "name": "stdout",
     "output_type": "stream",
     "text": [
      "     CategoryName                                        Description\n",
      "0       Beverages        Soft drinks, coffees, teas, beers, and ales\n",
      "1      Condiments  Sweet and savory sauces, relishes, spreads, an...\n",
      "2     Confections                Desserts, candies, and sweet breads\n",
      "3  Dairy Products                                            Cheeses\n",
      "4  Grains/Cereals                Breads, crackers, pasta, and cereal\n",
      "5    Meat/Poultry                                     Prepared meats\n",
      "6         Produce                          Dried fruit and bean curd\n",
      "7         Seafood                                   Seaweed and fish\n"
     ]
    }
   ],
   "source": [
    "query = \"\"\"\n",
    "        SELECT \n",
    "            CategoryName,\n",
    "            Description\n",
    "        FROM Categories\n",
    "\n",
    "        \"\"\"\n",
    "print(sqldf(query,locals()))"
   ]
  },
  {
   "cell_type": "markdown",
   "metadata": {},
   "source": [
    "## 3. Return the First Name, Last Name and Hire Date for Sales Representatives"
   ]
  },
  {
   "cell_type": "code",
   "execution_count": 31,
   "metadata": {},
   "outputs": [
    {
     "name": "stdout",
     "output_type": "stream",
     "text": [
      "  FirstName   LastName       HireDate\n",
      "0     Nancy    Davolio    1/5/10 0:00\n",
      "1     Janet  Leverling    1/4/10 0:00\n",
      "2  Margaret    Peacock    3/5/11 0:00\n",
      "3   Michael     Suyama  17/10/11 0:00\n",
      "4    Robert       King    2/1/12 0:00\n",
      "5      Anne  Dodsworth  15/11/12 0:00\n"
     ]
    }
   ],
   "source": [
    "query = \"\"\"\n",
    "        SELECT \n",
    "            FirstName,\n",
    "            LastName,\n",
    "            HireDate\n",
    "        FROM Employees\n",
    "        WHERE Title = 'Sales Representative'\n",
    "\n",
    "        \"\"\"\n",
    "print(sqldf(query,locals()))"
   ]
  },
  {
   "cell_type": "markdown",
   "metadata": {},
   "source": [
    "## 4. Return the First Name, Last Name and Hire Date for Sales Representatives in the United States"
   ]
  },
  {
   "cell_type": "code",
   "execution_count": 33,
   "metadata": {},
   "outputs": [
    {
     "name": "stdout",
     "output_type": "stream",
     "text": [
      "  FirstName   LastName     HireDate\n",
      "0     Nancy    Davolio  1/5/10 0:00\n",
      "1     Janet  Leverling  1/4/10 0:00\n",
      "2  Margaret    Peacock  3/5/11 0:00\n"
     ]
    }
   ],
   "source": [
    "query = \"\"\"\n",
    "        SELECT \n",
    "            FirstName,\n",
    "            LastName,\n",
    "            HireDate\n",
    "        FROM Employees\n",
    "        WHERE Title = 'Sales Representative' AND Country = 'USA'\n",
    "\n",
    "        \"\"\"\n",
    "print(sqldf(query,locals()))"
   ]
  },
  {
   "cell_type": "markdown",
   "metadata": {},
   "source": [
    "## 5. Show all of the orders and order dates for those placed by Employee ID 5"
   ]
  },
  {
   "cell_type": "code",
   "execution_count": 41,
   "metadata": {},
   "outputs": [
    {
     "name": "stdout",
     "output_type": "stream",
     "text": [
      "   OrderID      OrderDate\n",
      "0    10248    4/7/14 8:00\n",
      "1    10254   11/7/14 2:00\n",
      "2    10269   31/7/14 0:00\n",
      "3    10297   4/9/14 21:00\n",
      "4    10320  3/10/14 12:00\n"
     ]
    }
   ],
   "source": [
    "query = \"\"\"\n",
    "        SELECT\n",
    "            OrderID,\n",
    "            OrderDate    \n",
    "        FROM Orders\n",
    "        WHERE EmployeeID = '5' LIMIT 5\n",
    "\n",
    "        \"\"\"\n",
    "print(sqldf(query,locals()))"
   ]
  },
  {
   "cell_type": "markdown",
   "metadata": {},
   "source": [
    "## 6. Show the SupplierID, ContactName and ContactTitle for suppliers whose ContactTitle is *not* Marketing Manager"
   ]
  },
  {
   "cell_type": "code",
   "execution_count": 43,
   "metadata": {},
   "outputs": [
    {
     "name": "stdout",
     "output_type": "stream",
     "text": [
      "   SupplierID                 ContactName              ContactTitle\n",
      "0           1            Charlotte Cooper        Purchasing Manager\n",
      "1           2               Shelley Burke       Order Administrator\n",
      "2           3               Regina Murphy      Sales Representative\n",
      "3           5  Antonio del Valle Saavedra      Export Administrator\n",
      "4           6                 Mayumi Ohno  Marketing Representative\n"
     ]
    }
   ],
   "source": [
    "query = \"\"\"\n",
    "        SELECT\n",
    "            SupplierID,\n",
    "            ContactName,\n",
    "            ContactTitle\n",
    "        FROM Suppliers\n",
    "        WHERE ContactTitle <> 'Marketing Manager' LIMIT 5\n",
    "\n",
    "        \"\"\"\n",
    "print(sqldf(query,locals()))"
   ]
  },
  {
   "cell_type": "markdown",
   "metadata": {},
   "source": [
    "## 7. Return the ProductID and ProductName for products where the ProductName includes the string \"queso\""
   ]
  },
  {
   "cell_type": "code",
   "execution_count": 49,
   "metadata": {},
   "outputs": [
    {
     "name": "stdout",
     "output_type": "stream",
     "text": [
      "   ProductID                ProductName\n",
      "0         11             Queso Cabrales\n",
      "1         12  Queso Manchego La Pastora\n"
     ]
    }
   ],
   "source": [
    "query = \"\"\"\n",
    "        SELECT\n",
    "            ProductID,\n",
    "            ProductName           \n",
    "        FROM Products\n",
    "        WHERE ProductName LIKE '%queso%'\n",
    "\n",
    "        \"\"\"\n",
    "print(sqldf(query,locals()))"
   ]
  },
  {
   "cell_type": "markdown",
   "metadata": {},
   "source": [
    "## 8. Return the OrderID, CustomerID and ShipCountry where the ShipCountry is either Belgium or France"
   ]
  },
  {
   "cell_type": "code",
   "execution_count": 51,
   "metadata": {},
   "outputs": [
    {
     "name": "stdout",
     "output_type": "stream",
     "text": [
      "   OrderID CustomerID ShipCountry\n",
      "0    10248      VINET      France\n",
      "1    10251      VICTE      France\n",
      "2    10252      SUPRD     Belgium\n",
      "3    10265      BLONP      France\n",
      "4    10274      VINET      France\n"
     ]
    }
   ],
   "source": [
    "query = \"\"\"\n",
    "        SELECT\n",
    "            OrderID,\n",
    "            CustomerID,\n",
    "            ShipCountry\n",
    "        FROM Orders\n",
    "        WHERE ShipCountry = 'France' OR ShipCountry = 'Belgium' LIMIT 5\n",
    "\n",
    "        \"\"\"\n",
    "print(sqldf(query,locals()))"
   ]
  },
  {
   "cell_type": "markdown",
   "metadata": {},
   "source": [
    "## 9. Return the OrderID, CustomerID and ShipCountry for orders from any Latin American country (Brazil, Mexico, Argentina & Venezuela)"
   ]
  },
  {
   "cell_type": "code",
   "execution_count": 53,
   "metadata": {},
   "outputs": [
    {
     "name": "stdout",
     "output_type": "stream",
     "text": [
      "   OrderID CustomerID ShipCountry\n",
      "0    10250      HANAR      Brazil\n",
      "1    10253      HANAR      Brazil\n",
      "2    10256      WELLI      Brazil\n",
      "3    10257      HILAA   Venezuela\n",
      "4    10259      CENTC      Mexico\n"
     ]
    }
   ],
   "source": [
    "query = \"\"\"\n",
    "        SELECT\n",
    "            OrderID,\n",
    "            CustomerID,\n",
    "            ShipCountry\n",
    "        FROM Orders\n",
    "        WHERE ShipCountry IN ('Brazil','Mexico','Argentina','Venezuela') LIMIT 5\n",
    "\n",
    "        \"\"\"\n",
    "print(sqldf(query,locals()))"
   ]
  },
  {
   "cell_type": "markdown",
   "metadata": {},
   "source": [
    "## 10. Return FirstName, LastName, Title and BirthDate for all employees and order by birthdate in ascending order"
   ]
  },
  {
   "cell_type": "code",
   "execution_count": 72,
   "metadata": {},
   "outputs": [
    {
     "name": "stdout",
     "output_type": "stream",
     "text": [
      "  FirstName   LastName                     Title                   Birthdate\n",
      "0  Margaret    Peacock      Sales Representative  1955-09-19 00:00:00.000000\n",
      "1     Nancy    Davolio      Sales Representative  1966-08-12 00:00:00.000000\n",
      "2    Andrew     Fuller     Vice President, Sales  1970-02-19 00:00:00.000000\n",
      "3    Steven   Buchanan             Sales Manager  1973-04-03 00:00:00.000000\n",
      "4     Laura   Callahan  Inside Sales Coordinator  1976-09-01 00:00:00.000000\n",
      "5    Robert       King      Sales Representative  1978-05-29 00:00:00.000000\n",
      "6   Michael     Suyama      Sales Representative  1981-02-07 00:00:00.000000\n",
      "7     Janet  Leverling      Sales Representative  1981-08-30 00:00:00.000000\n",
      "8      Anne  Dodsworth      Sales Representative  1984-01-27 00:00:00.000000\n"
     ]
    }
   ],
   "source": [
    "query = \"\"\"\n",
    "        SELECT\n",
    "            FirstName,\n",
    "            LastName,\n",
    "            Title,\n",
    "            BirthDate\n",
    "        FROM Employees\n",
    "        ORDER BY BirthDate\n",
    "\n",
    "        \"\"\"\n",
    "print(sqldf(query,locals()))"
   ]
  },
  {
   "cell_type": "markdown",
   "metadata": {},
   "source": [
    "## 11. Return the query from Q10. showing only the date portion of the BirthDate"
   ]
  },
  {
   "cell_type": "code",
   "execution_count": 105,
   "metadata": {},
   "outputs": [
    {
     "name": "stdout",
     "output_type": "stream",
     "text": [
      "  FirstName   LastName                     Title                   Birthdate\n",
      "0  Margaret    Peacock      Sales Representative  1955-09-19 00:00:00.000000\n",
      "1     Nancy    Davolio      Sales Representative  1966-08-12 00:00:00.000000\n",
      "2    Andrew     Fuller     Vice President, Sales  1970-02-19 00:00:00.000000\n",
      "3    Steven   Buchanan             Sales Manager  1973-04-03 00:00:00.000000\n",
      "4     Laura   Callahan  Inside Sales Coordinator  1976-09-01 00:00:00.000000\n",
      "5    Robert       King      Sales Representative  1978-05-29 00:00:00.000000\n",
      "6   Michael     Suyama      Sales Representative  1981-02-07 00:00:00.000000\n",
      "7     Janet  Leverling      Sales Representative  1981-08-30 00:00:00.000000\n",
      "8      Anne  Dodsworth      Sales Representative  1984-01-27 00:00:00.000000\n"
     ]
    }
   ],
   "source": [
    "query = \"\"\"\n",
    "        SELECT\n",
    "            FirstName,\n",
    "            LastName,\n",
    "            Title,\n",
    "            BirthDate\n",
    "        FROM Employees\n",
    "        ORDER BY BirthDate\n",
    "\n",
    "        \"\"\"\n",
    "print(sqldf(query,locals()))"
   ]
  },
  {
   "cell_type": "markdown",
   "metadata": {},
   "source": [
    "## 12. Return each employees FirstName, LastName nad new column FullName with both joined together"
   ]
  },
  {
   "cell_type": "code",
   "execution_count": 108,
   "metadata": {},
   "outputs": [
    {
     "name": "stdout",
     "output_type": "stream",
     "text": [
      "  FirstName   LastName          FullName\n",
      "0     Nancy    Davolio     Nancy Davolio\n",
      "1    Andrew     Fuller     Andrew Fuller\n",
      "2     Janet  Leverling   Janet Leverling\n",
      "3  Margaret    Peacock  Margaret Peacock\n",
      "4    Steven   Buchanan   Steven Buchanan\n",
      "5   Michael     Suyama    Michael Suyama\n",
      "6    Robert       King       Robert King\n",
      "7     Laura   Callahan    Laura Callahan\n",
      "8      Anne  Dodsworth    Anne Dodsworth\n"
     ]
    }
   ],
   "source": [
    "query = \"\"\"\n",
    "        SELECT\n",
    "            FirstName,\n",
    "            LastName,\n",
    "            FirstName || ' '|| LastName AS FullName\n",
    "        FROM Employees\n",
    "\n",
    "        \"\"\"\n",
    "print(sqldf(query,locals()))\n",
    "\n",
    "#Or alternative Python implementation below\n",
    "Employees[\"FullName\"] = Employees.FirstName.str.cat(Employees.LastName, sep=' ')"
   ]
  },
  {
   "cell_type": "code",
   "execution_count": null,
   "metadata": {},
   "outputs": [],
   "source": []
  },
  {
   "cell_type": "code",
   "execution_count": null,
   "metadata": {},
   "outputs": [],
   "source": []
  }
 ],
 "metadata": {
  "kernelspec": {
   "display_name": "Python 3",
   "language": "python",
   "name": "python3"
  },
  "language_info": {
   "codemirror_mode": {
    "name": "ipython",
    "version": 3
   },
   "file_extension": ".py",
   "mimetype": "text/x-python",
   "name": "python",
   "nbconvert_exporter": "python",
   "pygments_lexer": "ipython3",
   "version": "3.8.3"
  }
 },
 "nbformat": 4,
 "nbformat_minor": 4
}
