%%sql
postgresql:///product

    SELECT *
    FROM product
    LIMIT 10
